{
 "cells": [
  {
   "cell_type": "markdown",
   "metadata": {},
   "source": [
    "# torch.nn.utils.rnn\n",
    "All contents are referenced to below link. `PaddedSequence` is a just `torch.Tensor` applied to padding technique.\n",
    "\n",
    "* link : https://github.com/deeplearningzerotoall/PyTorch/blob/master/lab-11_7_PackedSequence.ipynb\n",
    "\n",
    "![Alt text](https://github.com/deeplearningzerotoall/PyTorch/raw/3a4fc62cb1225730c8a90e32665cb8b5021329f1/figures/sequence.png)"
   ]
  },
  {
   "cell_type": "markdown",
   "metadata": {},
   "source": [
    "### Setup"
   ]
  },
  {
   "cell_type": "code",
   "execution_count": 1,
   "metadata": {},
   "outputs": [],
   "source": [
    "import torch\n",
    "import torch.nn as nn\n",
    "from torch.nn.utils.rnn import pad_sequence, pad_packed_sequence, pack_sequence, pack_padded_sequence\n",
    "from pprint import pprint"
   ]
  },
  {
   "cell_type": "markdown",
   "metadata": {},
   "source": [
    "### Example data"
   ]
  },
  {
   "cell_type": "code",
   "execution_count": 2,
   "metadata": {},
   "outputs": [
    {
     "name": "stdout",
     "output_type": "stream",
     "text": [
      "[tensor([ 7,  5,  9,  9, 12,  1, 18, 12, 14,  9,  4]),\n",
      " tensor([10,  8,  4, 11,  8,  6,  7, 16]),\n",
      " tensor([ 3,  2,  9,  3, 17,  9,  2, 16,  8, 12, 11]),\n",
      " tensor([13,  2, 16,  7]),\n",
      " tensor([15,  7, 12, 14, 16,  1,  3,  8, 14,  3, 17,  8, 16])]\n"
     ]
    }
   ],
   "source": [
    "data = ['hello world', 'midnight', 'calculation', 'path', 'short circuit']\n",
    "\n",
    "char_set = ['<pad>'] + sorted(set(''.join(data)))\n",
    "char2idx = {token : idx for idx, token in enumerate(char_set)}\n",
    "indices = list(map(lambda string: torch.tensor([char2idx.get(char) for char in string]), data)) # list of Tensors\n",
    "pprint(indices)"
   ]
  },
  {
   "cell_type": "markdown",
   "metadata": {},
   "source": [
    "## pad_sequence\n",
    "link : https://pytorch.org/docs/stable/nn.html#pad-sequence"
   ]
  },
  {
   "cell_type": "code",
   "execution_count": 3,
   "metadata": {},
   "outputs": [
    {
     "name": "stdout",
     "output_type": "stream",
     "text": [
      "tensor([[ 7,  5,  9,  9, 12,  1, 18, 12, 14,  9,  4,  0,  0],\n",
      "        [10,  8,  4, 11,  8,  6,  7, 16,  0,  0,  0,  0,  0],\n",
      "        [ 3,  2,  9,  3, 17,  9,  2, 16,  8, 12, 11,  0,  0],\n",
      "        [13,  2, 16,  7,  0,  0,  0,  0,  0,  0,  0,  0,  0],\n",
      "        [15,  7, 12, 14, 16,  1,  3,  8, 14,  3, 17,  8, 16]]) torch.Size([5, 13])\n",
      "tensor([[ 7, 10,  3, 13, 15],\n",
      "        [ 5,  8,  2,  2,  7],\n",
      "        [ 9,  4,  9, 16, 12],\n",
      "        [ 9, 11,  3,  7, 14],\n",
      "        [12,  8, 17,  0, 16],\n",
      "        [ 1,  6,  9,  0,  1],\n",
      "        [18,  7,  2,  0,  3],\n",
      "        [12, 16, 16,  0,  8],\n",
      "        [14,  0,  8,  0, 14],\n",
      "        [ 9,  0, 12,  0,  3],\n",
      "        [ 4,  0, 11,  0, 17],\n",
      "        [ 0,  0,  0,  0,  8],\n",
      "        [ 0,  0,  0,  0, 16]]) torch.Size([13, 5])\n"
     ]
    }
   ],
   "source": [
    "padded_indices_wbf = pad_sequence(indices, batch_first=True)\n",
    "padded_indices_wobf  = pad_sequence(indices)\n",
    "\n",
    "print(padded_indices_wbf, padded_indices_wbf.size()) # (batch, seq_len)\n",
    "print(padded_indices_wobf, padded_indices_wobf.size()) # (seq_len, batch)"
   ]
  },
  {
   "cell_type": "markdown",
   "metadata": {},
   "source": [
    "## pack_sequence\n",
    "* link : https://pytorch.org/docs/stable/nn.html#pack-sequence"
   ]
  },
  {
   "cell_type": "code",
   "execution_count": 4,
   "metadata": {},
   "outputs": [
    {
     "name": "stdout",
     "output_type": "stream",
     "text": [
      "[tensor([15,  7, 12, 14, 16,  1,  3,  8, 14,  3, 17,  8, 16]),\n",
      " tensor([ 7,  5,  9,  9, 12,  1, 18, 12, 14,  9,  4]),\n",
      " tensor([ 3,  2,  9,  3, 17,  9,  2, 16,  8, 12, 11]),\n",
      " tensor([10,  8,  4, 11,  8,  6,  7, 16]),\n",
      " tensor([13,  2, 16,  7])]\n"
     ]
    }
   ],
   "source": [
    "sorted_indices = sorted(indices, key=lambda tensor: tensor.size()[0], reverse=True)\n",
    "pprint(sorted_indices)"
   ]
  },
  {
   "cell_type": "code",
   "execution_count": 5,
   "metadata": {},
   "outputs": [
    {
     "name": "stdout",
     "output_type": "stream",
     "text": [
      "PackedSequence(data=tensor([15,  7,  3, 10, 13,  7,  5,  2,  8,  2, 12,  9,  9,  4, 16, 14,  9,  3,\n",
      "        11,  7, 16, 12, 17,  8,  1,  1,  9,  6,  3, 18,  2,  7,  8, 12, 16, 16,\n",
      "        14, 14,  8,  3,  9, 12, 17,  4, 11,  8, 16]), batch_sizes=tensor([5, 5, 5, 5, 4, 4, 4, 4, 3, 3, 3, 1, 1]))\n",
      "<class 'torch.nn.utils.rnn.PackedSequence'>\n"
     ]
    }
   ],
   "source": [
    "packed_indices = pack_sequence(sorted_indices)\n",
    "\n",
    "print(packed_indices)\n",
    "print(type(packed_indices))"
   ]
  },
  {
   "cell_type": "markdown",
   "metadata": {},
   "source": [
    "## pad_packed_sequence\n",
    "* link : https://pytorch.org/docs/stable/nn.html#pad-packed-sequence"
   ]
  },
  {
   "cell_type": "code",
   "execution_count": 6,
   "metadata": {},
   "outputs": [
    {
     "name": "stdout",
     "output_type": "stream",
     "text": [
      "(tensor([[15,  7, 12, 14, 16,  1,  3,  8, 14,  3, 17,  8, 16],\n",
      "        [ 7,  5,  9,  9, 12,  1, 18, 12, 14,  9,  4,  0,  0],\n",
      "        [ 3,  2,  9,  3, 17,  9,  2, 16,  8, 12, 11,  0,  0],\n",
      "        [10,  8,  4, 11,  8,  6,  7, 16,  0,  0,  0,  0,  0],\n",
      "        [13,  2, 16,  7,  0,  0,  0,  0,  0,  0,  0,  0,  0]]), tensor([13, 11, 11,  8,  4]))\n",
      "(tensor([[15,  7,  3, 10, 13],\n",
      "        [ 7,  5,  2,  8,  2],\n",
      "        [12,  9,  9,  4, 16],\n",
      "        [14,  9,  3, 11,  7],\n",
      "        [16, 12, 17,  8,  0],\n",
      "        [ 1,  1,  9,  6,  0],\n",
      "        [ 3, 18,  2,  7,  0],\n",
      "        [ 8, 12, 16, 16,  0],\n",
      "        [14, 14,  8,  0,  0],\n",
      "        [ 3,  9, 12,  0,  0],\n",
      "        [17,  4, 11,  0,  0],\n",
      "        [ 8,  0,  0,  0,  0],\n",
      "        [16,  0,  0,  0,  0]]), tensor([13, 11, 11,  8,  4]))\n"
     ]
    }
   ],
   "source": [
    "padded_indices_wbf_tuple = pad_packed_sequence(packed_indices, batch_first=True)\n",
    "padded_indices_wobf_tuple = pad_packed_sequence(packed_indices, batch_first=False)\n",
    "\n",
    "print(padded_indices_wbf_tuple)\n",
    "print(padded_indices_wobf_tuple)"
   ]
  },
  {
   "cell_type": "markdown",
   "metadata": {},
   "source": [
    "## pack_padded_sequence\n",
    "* link : https://pytorch.org/docs/stable/nn.html#pack-padded-sequence"
   ]
  },
  {
   "cell_type": "code",
   "execution_count": 7,
   "metadata": {},
   "outputs": [
    {
     "name": "stdout",
     "output_type": "stream",
     "text": [
      "PackedSequence(data=tensor([15,  7,  3, 10, 13,  7,  5,  2,  8,  2, 12,  9,  9,  4, 16, 14,  9,  3,\n",
      "        11,  7, 16, 12, 17,  8,  1,  1,  9,  6,  3, 18,  2,  7,  8, 12, 16, 16,\n",
      "        14, 14,  8,  3,  9, 12, 17,  4, 11,  8, 16]), batch_sizes=tensor([5, 5, 5, 5, 4, 4, 4, 4, 3, 3, 3, 1, 1]))\n",
      "PackedSequence(data=tensor([15,  7,  3, 10, 13,  7,  5,  2,  8,  2, 12,  9,  9,  4, 16, 14,  9,  3,\n",
      "        11,  7, 16, 12, 17,  8,  1,  1,  9,  6,  3, 18,  2,  7,  8, 12, 16, 16,\n",
      "        14, 14,  8,  3,  9, 12, 17,  4, 11,  8, 16]), batch_sizes=tensor([5, 5, 5, 5, 4, 4, 4, 4, 3, 3, 3, 1, 1]))\n"
     ]
    }
   ],
   "source": [
    "print(pack_padded_sequence(*padded_indices_wbf_tuple, batch_first=True))\n",
    "print(pack_padded_sequence(*padded_indices_wobf_tuple, batch_first=False))"
   ]
  }
 ],
 "metadata": {
  "kernelspec": {
   "display_name": "Python 3",
   "language": "python",
   "name": "python3"
  },
  "language_info": {
   "codemirror_mode": {
    "name": "ipython",
    "version": 3
   },
   "file_extension": ".py",
   "mimetype": "text/x-python",
   "name": "python",
   "nbconvert_exporter": "python",
   "pygments_lexer": "ipython3",
   "version": "3.6.8"
  }
 },
 "nbformat": 4,
 "nbformat_minor": 2
}
