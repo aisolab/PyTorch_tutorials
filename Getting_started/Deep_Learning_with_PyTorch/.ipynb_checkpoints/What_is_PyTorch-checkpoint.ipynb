{
 "cells": [
  {
   "cell_type": "markdown",
   "metadata": {},
   "source": [
    "# What is PyTorch?\n",
    "https://pytorch.org/tutorials/beginner/blitz/tensor_tutorial.html#numpy-bridge"
   ]
  },
  {
   "cell_type": "markdown",
   "metadata": {},
   "source": [
    "## Getting Started"
   ]
  },
  {
   "cell_type": "markdown",
   "metadata": {},
   "source": [
    "### Setup"
   ]
  },
  {
   "cell_type": "code",
   "execution_count": 1,
   "metadata": {},
   "outputs": [],
   "source": [
    "from __future__ import print_function\n",
    "import torch"
   ]
  },
  {
   "cell_type": "markdown",
   "metadata": {},
   "source": [
    "### Tensors"
   ]
  },
  {
   "cell_type": "code",
   "execution_count": 2,
   "metadata": {},
   "outputs": [
    {
     "name": "stdout",
     "output_type": "stream",
     "text": [
      "tensor([[-6.6254e-21,  4.5597e-41, -6.6254e-21],\n",
      "        [ 4.5597e-41,  2.5038e-12,  4.0058e-11],\n",
      "        [ 1.7156e-07,  1.4600e-19,  3.0881e+29],\n",
      "        [ 7.5589e+28,  5.2839e-11,  2.7604e+20],\n",
      "        [ 2.5610e-12,  1.1632e+33,  5.6003e-02]]) torch.float32 torch.Size([5, 3]) <class 'torch.Tensor'>\n"
     ]
    }
   ],
   "source": [
    "x = torch.empty(5, 3)\n",
    "print(x, x.dtype, x.size(), type(x))"
   ]
  },
  {
   "cell_type": "code",
   "execution_count": 3,
   "metadata": {},
   "outputs": [
    {
     "name": "stdout",
     "output_type": "stream",
     "text": [
      "tensor([[0.2231, 0.7366, 0.3800],\n",
      "        [0.1542, 0.5011, 0.1517],\n",
      "        [0.1229, 0.4597, 0.9995],\n",
      "        [0.5776, 0.0355, 0.5031],\n",
      "        [0.8053, 0.4119, 0.0594]]) torch.float32 torch.Size([5, 3]) <class 'torch.Tensor'>\n"
     ]
    }
   ],
   "source": [
    "# Construct a randomly initialized matrix:\n",
    "x = torch.rand(5, 3)\n",
    "print(x, x.dtype, x.size(), type(x))"
   ]
  },
  {
   "cell_type": "code",
   "execution_count": 4,
   "metadata": {},
   "outputs": [
    {
     "name": "stdout",
     "output_type": "stream",
     "text": [
      "tensor([[0, 0, 0],\n",
      "        [0, 0, 0],\n",
      "        [0, 0, 0],\n",
      "        [0, 0, 0],\n",
      "        [0, 0, 0]]) torch.int64 torch.Size([5, 3]) <class 'torch.Tensor'>\n"
     ]
    }
   ],
   "source": [
    "# Construct a matrix filled zeros and of dtype long:\n",
    "x = torch.zeros(5,3, dtype=torch.long)\n",
    "print(x, x.dtype, x.size(), type(x))"
   ]
  },
  {
   "cell_type": "code",
   "execution_count": 5,
   "metadata": {},
   "outputs": [
    {
     "name": "stdout",
     "output_type": "stream",
     "text": [
      "tensor([5.5000, 3.0000]) torch.float32 torch.Size([2]) <class 'torch.Tensor'>\n"
     ]
    }
   ],
   "source": [
    "# Construct a tensor directly from data:\n",
    "x = torch.tensor([5.5, 3.])\n",
    "print(x, x.dtype, x.size(), type(x))"
   ]
  },
  {
   "cell_type": "code",
   "execution_count": 6,
   "metadata": {},
   "outputs": [
    {
     "name": "stdout",
     "output_type": "stream",
     "text": [
      "tensor([[1., 1., 1.],\n",
      "        [1., 1., 1.],\n",
      "        [1., 1., 1.],\n",
      "        [1., 1., 1.],\n",
      "        [1., 1., 1.]], dtype=torch.float64) torch.float64 torch.Size([5, 3])\n",
      "tensor([[0.5859, 0.5399, 0.0817],\n",
      "        [0.0773, 0.9324, 0.9750],\n",
      "        [0.5491, 0.9027, 0.2625],\n",
      "        [0.7037, 0.4329, 0.2500],\n",
      "        [0.3396, 0.6402, 0.4512]]) torch.float32 torch.Size([5, 3]) <class 'torch.Tensor'>\n"
     ]
    }
   ],
   "source": [
    "# Create a tensor based on an existing tensor. These methods will reuse properties of the input tensor, e.g. dtype, unless new values are provided by user\n",
    "x = x.new_ones(5, 3, dtype=torch.double)\n",
    "print(x, x.dtype, x.size())\n",
    "\n",
    "x = torch.rand_like(x, dtype=torch.float)\n",
    "print(x, x.dtype, x.size(), type(x))"
   ]
  },
  {
   "cell_type": "markdown",
   "metadata": {},
   "source": [
    "### Operations\n",
    "There are multiple syntaxes for operations. In the following example, we will take a look at the addition operation."
   ]
  },
  {
   "cell_type": "code",
   "execution_count": 7,
   "metadata": {},
   "outputs": [
    {
     "name": "stdout",
     "output_type": "stream",
     "text": [
      "tensor([[1.5859, 1.5399, 1.0817],\n",
      "        [1.0773, 1.9324, 1.9750],\n",
      "        [1.5491, 1.9027, 1.2625],\n",
      "        [1.7037, 1.4329, 1.2500],\n",
      "        [1.3396, 1.6402, 1.4512]])\n",
      "tensor([[1.5859, 1.5399, 1.0817],\n",
      "        [1.0773, 1.9324, 1.9750],\n",
      "        [1.5491, 1.9027, 1.2625],\n",
      "        [1.7037, 1.4329, 1.2500],\n",
      "        [1.3396, 1.6402, 1.4512]])\n",
      "tensor([[1.5859, 1.5399, 1.0817],\n",
      "        [1.0773, 1.9324, 1.9750],\n",
      "        [1.5491, 1.9027, 1.2625],\n",
      "        [1.7037, 1.4329, 1.2500],\n",
      "        [1.3396, 1.6402, 1.4512]])\n"
     ]
    }
   ],
   "source": [
    "y = torch.ones((5,3))\n",
    "\n",
    "print(x + y)\n",
    "print(torch.add(x, y))\n",
    "\n",
    "# Addition: providing an output tensor as argument\n",
    "result = torch.empty(5, 3)\n",
    "torch.add(x, y, out=result)\n",
    "print(result)"
   ]
  },
  {
   "cell_type": "code",
   "execution_count": 8,
   "metadata": {},
   "outputs": [
    {
     "name": "stdout",
     "output_type": "stream",
     "text": [
      "tensor([[1., 1., 1.],\n",
      "        [1., 1., 1.],\n",
      "        [1., 1., 1.],\n",
      "        [1., 1., 1.],\n",
      "        [1., 1., 1.]])\n",
      "tensor([[1.5859, 1.5399, 1.0817],\n",
      "        [1.0773, 1.9324, 1.9750],\n",
      "        [1.5491, 1.9027, 1.2625],\n",
      "        [1.7037, 1.4329, 1.2500],\n",
      "        [1.3396, 1.6402, 1.4512]])\n"
     ]
    }
   ],
   "source": [
    "# Addition: in-place\n",
    "# Any operation that mutates a tensor in-place is post-fixed with an _.\n",
    "# For example: x.copy_(y), x.t_(), will change x.\n",
    "print(y)\n",
    "y.add_(x)\n",
    "print(y)"
   ]
  },
  {
   "cell_type": "code",
   "execution_count": 9,
   "metadata": {},
   "outputs": [
    {
     "name": "stdout",
     "output_type": "stream",
     "text": [
      "tensor([[0.5859, 0.5399, 0.0817],\n",
      "        [0.0773, 0.9324, 0.9750],\n",
      "        [0.5491, 0.9027, 0.2625],\n",
      "        [0.7037, 0.4329, 0.2500],\n",
      "        [0.3396, 0.6402, 0.4512]])\n",
      "tensor([0.5399, 0.9324, 0.9027, 0.4329, 0.6402])\n"
     ]
    }
   ],
   "source": [
    "# You can use standard NumPy-like indexing with all bells and whistles!\n",
    "print(x)\n",
    "print(x[:,1])"
   ]
  },
  {
   "cell_type": "code",
   "execution_count": 10,
   "metadata": {},
   "outputs": [
    {
     "name": "stdout",
     "output_type": "stream",
     "text": [
      "torch.Size([4, 4]) torch.Size([16]) torch.Size([2, 8])\n"
     ]
    }
   ],
   "source": [
    "x = torch.randn(4, 4)\n",
    "y = x.view(16)\n",
    "z = x.view(-1, 8)  # the size -1 is inferred from other dimensions\n",
    "print(x.size(), y.size(), z.size())"
   ]
  },
  {
   "cell_type": "code",
   "execution_count": 11,
   "metadata": {},
   "outputs": [
    {
     "name": "stdout",
     "output_type": "stream",
     "text": [
      "tensor([-0.1300])\n",
      "-0.13002386689186096\n"
     ]
    }
   ],
   "source": [
    "# If you have a one element tensor, use .item() to get the value as a Python number\n",
    "x = torch.randn(1)\n",
    "\n",
    "print(x)\n",
    "print(x.item())"
   ]
  },
  {
   "cell_type": "markdown",
   "metadata": {},
   "source": [
    "## NumPy Bridge\n",
    "Converting a Torch Tensor to a NumPy array and vice versa is a breeze.\n",
    "\n",
    "The Torch Tensor and NumPy array will share their underlying memory locations, and changing one will change the other."
   ]
  },
  {
   "cell_type": "markdown",
   "metadata": {},
   "source": [
    "### Converting a Torch Tensor to a NumPy Array"
   ]
  },
  {
   "cell_type": "code",
   "execution_count": 12,
   "metadata": {},
   "outputs": [
    {
     "name": "stdout",
     "output_type": "stream",
     "text": [
      "tensor([1., 1., 1., 1., 1.]) torch.float32 torch.Size([5]) <class 'torch.Tensor'>\n"
     ]
    }
   ],
   "source": [
    "a = torch.ones(5)\n",
    "print(a, a.dtype, a.size(), type(a))"
   ]
  },
  {
   "cell_type": "code",
   "execution_count": 13,
   "metadata": {},
   "outputs": [
    {
     "name": "stdout",
     "output_type": "stream",
     "text": [
      "[1. 1. 1. 1. 1.] <class 'numpy.ndarray'>\n"
     ]
    }
   ],
   "source": [
    "b = a.numpy()\n",
    "print(b, type(b))"
   ]
  },
  {
   "cell_type": "code",
   "execution_count": 14,
   "metadata": {},
   "outputs": [
    {
     "name": "stdout",
     "output_type": "stream",
     "text": [
      "tensor([2., 2., 2., 2., 2.])\n",
      "[2. 2. 2. 2. 2.]\n"
     ]
    }
   ],
   "source": [
    "# See how the numpy array changed in value.\n",
    "a.add_(1)\n",
    "print(a)\n",
    "print(b)"
   ]
  },
  {
   "cell_type": "markdown",
   "metadata": {},
   "source": [
    "### Converting NumPy Array to Torch Tensor\n",
    "See how changing the np array changed the Torch Tensor automatically"
   ]
  },
  {
   "cell_type": "code",
   "execution_count": 15,
   "metadata": {},
   "outputs": [
    {
     "name": "stdout",
     "output_type": "stream",
     "text": [
      "[2. 2. 2. 2. 2.]\n",
      "tensor([2., 2., 2., 2., 2.], dtype=torch.float64)\n"
     ]
    }
   ],
   "source": [
    "import numpy as np\n",
    "a = np.ones(5)\n",
    "b = torch.from_numpy(a)\n",
    "np.add(a, 1, out=a) # inplace\n",
    "print(a)\n",
    "print(b)"
   ]
  },
  {
   "cell_type": "markdown",
   "metadata": {},
   "source": [
    "## CUDA Tensors\n",
    "Tensors can be moved onto any device using the `.to` method"
   ]
  },
  {
   "cell_type": "code",
   "execution_count": 16,
   "metadata": {},
   "outputs": [],
   "source": [
    "# # let us run this cell only if CUDA is available\n",
    "# # We will use ``torch.device`` objects to move tensors in and out of GPU\n",
    "# if torch.cuda.is_available():\n",
    "#     device = torch.device(\"cuda\")          # a CUDA device object\n",
    "#     y = torch.ones_like(x, device=device)  # directly create a tensor on GPU\n",
    "#     x = x.to(device)                       # or just use strings ``.to(\"cuda\")``\n",
    "#     z = x + y\n",
    "#     print(z)\n",
    "#     print(z.to(\"cpu\", torch.double))       # ``.to`` can also change dtype together!"
   ]
  }
 ],
 "metadata": {
  "kernelspec": {
   "display_name": "Python 3",
   "language": "python",
   "name": "python3"
  },
  "language_info": {
   "codemirror_mode": {
    "name": "ipython",
    "version": 3
   },
   "file_extension": ".py",
   "mimetype": "text/x-python",
   "name": "python",
   "nbconvert_exporter": "python",
   "pygments_lexer": "ipython3",
   "version": "3.6.8"
  }
 },
 "nbformat": 4,
 "nbformat_minor": 2
}
