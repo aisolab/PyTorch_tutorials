{
 "cells": [
  {
   "cell_type": "markdown",
   "metadata": {},
   "source": [
    "# Introduction to PyTorch Code Examples\n",
    "### An overview of training, models, loss functions and optimizers\n",
    "\n",
    "This post follows the main post announcing the CS230 Project Code Examples. Here we explain some details of the PyTorch part of the code from our github repository.\n",
    "\n",
    "```\n",
    "pytorch/\n",
    "    vision/\n",
    "    nlp/\n",
    "```\n",
    "\n",
    "This tutorial is among a series explaining the code examples:\n",
    "\n",
    "* getting started: installation, getting started with the code for the projects\n",
    "* **this post**: global structure of the PyTorch code\n",
    "* Vision: predicting labels from images of hand signs\n",
    "* NLP: Named Entity Recognition (NER) tagging for sentences\n",
    "\n",
    "### Goals of this tutorial\n",
    "\n",
    "* learn more about PyTorch\n",
    "* learn an example of how to correctly structure a deep learning project in PyTorch\n",
    "* understand the key aspects of the code well-enough to modify it to suit your needs\n",
    "\n",
    "### Table of Contents\n",
    "\n",
    "* Resources\n",
    "* Code Layout\n",
    "* Tensors and Variables\n",
    "* Core Training Step\n",
    "* Models in PyTorch\n",
    "* Loss Function\n",
    "* Optimizer\n",
    "* Training vs Evaluation\n",
    "* Computing Metrics\n",
    "* Saving and Loading Models\n",
    "* Using the GPU\n",
    "* Painless Debugging"
   ]
  },
  {
   "cell_type": "markdown",
   "metadata": {},
   "source": [
    "## Resources\n",
    "\n",
    "* The main PyTorch homepage.\n",
    "* The official tutorials cover a wide variety of use cases- attention based sequence to sequence models, Deep Q-Networks, neural transfer and much more!\n",
    "* A quick crash course in PyTorch.\n",
    "* Justin Johnson’s repository that introduces fundamental PyTorch concepts through self-contained examples.\n",
    "* Tons of resources in this list."
   ]
  },
  {
   "cell_type": "markdown",
   "metadata": {},
   "source": [
    "## Code Layout\n",
    "The code for each PyTorch example (Vision and NLP) shares a common structure:\n",
    "```\n",
    "data/\n",
    "experiments/\n",
    "model/\n",
    "    net.py\n",
    "    data_loader.py\n",
    "train.py\n",
    "evaluate.py\n",
    "search_hyperparams.py\n",
    "synthesize_results.py\n",
    "evaluate.py\n",
    "utils.py\n",
    "```\n",
    "\n",
    "* `model/net.py` : specifies the neural network architecture, the loss function and evaluation metrics\n",
    "* `model/data_loader.py` : specifies how the data should be fed to the network\n",
    "* `train.py` : contains the main training loop\n",
    "* `evaluate.py` : contains the main loop for evaluating the model\n",
    "* `utils.py` : utility functions for handling hyperparams/logging/storing model\n",
    "\n",
    "We recommend reading through `train.py` to get a high-level overview.\n",
    "\n",
    "Once you get the high-level idea, depending on your task and dataset, you might want to modify\n",
    "\n",
    "* `model/net.py` to change the model, i.e. how you transform your input into your prediction as well as your loss, etc.\n",
    "* `model/data_loader.py` to change the way you feed data to the model.\n",
    "* `train.py` and evaluate.py to make changes specific to your problem, if required\n",
    "\n",
    "Once you get something working for your dataset, feel free to edit any part of the code to suit your own needs."
   ]
  },
  {
   "cell_type": "markdown",
   "metadata": {},
   "source": [
    "## Tensors and Variables\n",
    "Before going further, I strongly suggest you go through this 60 Minute Blitz with PyTorch to gain an understanding of PyTorch basics. Here’s a sneak peak.\n",
    "\n",
    "PyTorch `Tensor`s are similar in behaviour to NumPy’s arrays.\n",
    "* ref : #https://discuss.pytorch.org/t/what-is-the-difference-between-tensor-and-tensor-is-tensor-going-to-be-deprecated-in-the-future/17134"
   ]
  },
  {
   "cell_type": "code",
   "execution_count": 1,
   "metadata": {},
   "outputs": [
    {
     "name": "stdout",
     "output_type": "stream",
     "text": [
      "tensor([[1, 2],\n",
      "        [3, 4]])\n",
      "tensor([[ 1,  4],\n",
      "        [ 9, 16]])\n"
     ]
    }
   ],
   "source": [
    "import torch\n",
    "a = torch.tensor([[1,2], [3, 4]])\n",
    "print(a)\n",
    "print(a**2)"
   ]
  },
  {
   "cell_type": "markdown",
   "metadata": {},
   "source": [
    "PyTorch `Variable`s allow you to wrap a Tensor and record operations performed on it. This allows you to perform automatic differentiation. (but `torch.autograd.Variable` is to be deprecated)\n",
    "* ref : https://pytorch.org/docs/stable/autograd.html#variable-deprecated"
   ]
  },
  {
   "cell_type": "code",
   "execution_count": 2,
   "metadata": {},
   "outputs": [
    {
     "name": "stdout",
     "output_type": "stream",
     "text": [
      "tensor([[1., 2.],\n",
      "        [3., 4.]], requires_grad=True)\n",
      "tensor(30., grad_fn=<SumBackward0>)\n",
      "None\n",
      "tensor([[2., 4.],\n",
      "        [6., 8.]])\n"
     ]
    }
   ],
   "source": [
    "from torch.autograd import Variable\n",
    "a = Variable(torch.Tensor([[1, 2], [3, 4]]), requires_grad=True)\n",
    "print(a)\n",
    "\n",
    "y = torch.sum(a**2) # 1 + 4 + 9 + 16\n",
    "print(y)\n",
    "\n",
    "print(a.grad) # compute gradients of y wrt a\n",
    "y.backward() # print dy / da_ij = 2*a_ij for a_11, a_12, a_21, a22\n",
    "print(a.grad)"
   ]
  },
  {
   "cell_type": "code",
   "execution_count": 3,
   "metadata": {},
   "outputs": [
    {
     "name": "stdout",
     "output_type": "stream",
     "text": [
      "tensor([[1., 2.],\n",
      "        [3., 4.]], requires_grad=True)\n",
      "tensor(30., grad_fn=<SumBackward0>)\n",
      "None\n",
      "tensor([[2., 4.],\n",
      "        [6., 8.]])\n"
     ]
    }
   ],
   "source": [
    "a = torch.tensor([[1.,2.], [3.,4.]], requires_grad=True)\n",
    "print(a)\n",
    "\n",
    "y = torch.sum(a**2)\n",
    "print(y)\n",
    "\n",
    "print(a.grad)\n",
    "y.backward()\n",
    "print(a.grad)"
   ]
  },
  {
   "cell_type": "markdown",
   "metadata": {},
   "source": [
    "This prelude should give you a sense of the things to come. PyTorch packs elegance and expressiveness in its minimalist and intuitive syntax. Familiarize yourself with some more examples from the Resources section before moving ahead."
   ]
  },
  {
   "cell_type": "markdown",
   "metadata": {},
   "source": [
    "## Core Training Step\n",
    "Let's begin with a look at what the heart of our training algorithm looks like. The five lines below pass a batch of inputs through the model, calculate the loss, perform backpropagation and update the parameters.\n",
    "```python\n",
    "output_batch = model(train_batch) # compute model output\n",
    "loss = loss_fn(output_batch, labels_batch) # calculate loss\n",
    "\n",
    "optimizer.zero_grad() # clear previous gradients\n",
    "loss.backward() # compute gradients of all variables wrt loss\n",
    "\n",
    "optimizer.step() # perform updates using calculated gradients\n",
    "```\n",
    "Each of the variables `train_batch`, `labels_batch`, `output_batch` and `loss` is a PyTorch Variable and allows derivates to be automatically calculated.\n",
    "\n",
    "All the other code that we write is built around this- the exact specification of the model, how to fetch a batch of data and labels, computation of the loss and the details of the optimizer. In this post, we’ll cover how to write a simple model in PyTorch, compute the loss and define an optimizer. The subsequent posts each cover a case of fetching data- one for image data and another for text data."
   ]
  },
  {
   "cell_type": "markdown",
   "metadata": {},
   "source": [
    "## Models in PyTorch\n",
    "A model can be defined in PyTorch by subclassing the `torch.nn.Module` class. The model is defined in two steps. We first specify the parameters of the model, and then outline how they are applied to the inputs. ***For operations that do not involve trainable parameters (activation functions such as ReLU, operations like maxpool), we generally use the `torch.nn.functional module`.*** Here’s an example of a single hidden layer neural network borrowed from here:"
   ]
  },
  {
   "cell_type": "code",
   "execution_count": 4,
   "metadata": {},
   "outputs": [],
   "source": [
    "import torch.nn as nn\n",
    "import torch.nn.functional as F\n",
    "\n",
    "class TwoLayerNet(nn.Module):\n",
    "    def __init__(self, D_in, H, D_out):\n",
    "        \"\"\"\n",
    "        In the constructor we instantiate two nn.Linear modules and assign them as\n",
    "        member variables.\n",
    "\n",
    "        D_in: input dimension\n",
    "        H: dimension of hidden layer\n",
    "        D_out: output dimension\n",
    "        \"\"\"\n",
    "        super(TwoLayerNet, self).__init__()\n",
    "        self.linear1 = nn.Linear(D_in, H)\n",
    "        self.linear2 = nn.Linear(H, D_out)\n",
    "    \n",
    "    def forward(self, x):\n",
    "        \"\"\"\n",
    "        In the forward function we accept a Variable of input data and we must \n",
    "        return a Variable of output data. We can use Modules defined in the \n",
    "        constructor as well as arbitrary operators on Variables.\n",
    "        \"\"\"\n",
    "        h_relu = F.relu(self.linear1(x))\n",
    "        y_pred = self.linear2(h_relu)\n",
    "        return y_pred"
   ]
  },
  {
   "cell_type": "markdown",
   "metadata": {},
   "source": [
    "The `__init__` function initialises the two linear layers of the model. PyTorch takes care of the proper initialization of the parameters you specify. In the `forward` function, we first apply the first linear layer, apply ReLU activation and then apply the second linear layer. The module assumes that the first dimension of `x` is the batch size. If the input to the network is simply a vector of dimension 100, and the batch size is 32, then the dimension of `x` would be 32,100. Let’s see an example of how to define a model and compute a forward pass:"
   ]
  },
  {
   "cell_type": "code",
   "execution_count": 5,
   "metadata": {},
   "outputs": [],
   "source": [
    "# N is batch size; D_in is input dimension;\n",
    "# H is the dimension of the hidden layer; D_out is output dimension.\n",
    "N, D_in, H, D_out = 32, 100, 50, 10\n",
    "\n",
    "# Create random Tensors to hold inputs and outputs, and wrap them in Variables\n",
    "x = torch.randn(N, D_in)  # dim: 32 x 100\n",
    "\n",
    "# Construct our model by instantiating the class defined above\n",
    "model = TwoLayerNet(D_in, H, D_out)\n",
    "\n",
    "# Forward pass: Compute predicted y by passing x to the model\n",
    "y_pred = model(x)   # dim: 32 x 10()"
   ]
  },
  {
   "cell_type": "markdown",
   "metadata": {},
   "source": [
    "More complex models follow the same layout, and we'll see two of them in the subsequent posts."
   ]
  },
  {
   "cell_type": "markdown",
   "metadata": {},
   "source": [
    "## Loss Function\n",
    "PyTorch comes with many standard loss functions available for you to use in the `torch.nn` module. Here’s a simple example of how to calculate Cross Entropy Loss. Let’s say our model solves a multi-class classification problem with `C` labels. Then for a batch of size `N`, `out` is a PyTorch Variable of dimension `NxC` that is obtained by passing an input batch through the model. We also have a `target` Variable of size `N`, where each element is the class for that example, i.e. a label in `[0,...,C-1]`. You can define the loss function and compute the loss as follows:\n",
    "```python\n",
    "loss_fn = nn.CrossEntropyLoss()\n",
    "loss = loss_fn(out, target)\n",
    "```"
   ]
  },
  {
   "cell_type": "markdown",
   "metadata": {},
   "source": [
    "PyTorch makes it very easy to extend this and write your own custom loss function. We can write our own Cross Entropy Loss function as below (note the NumPy-esque syntax):"
   ]
  },
  {
   "cell_type": "code",
   "execution_count": 6,
   "metadata": {},
   "outputs": [],
   "source": [
    "def myCrossEntropyLoss(outputs, labels):\n",
    "    batch_size = outputs.size()[0] # batch_size\n",
    "    outputs = F.log_softmax(outputs, dim=-1) # compute the log of softmax values\n",
    "    outputs = outputs[range(batch_size), labels] # pick the values corresponding to the labels\n",
    "    return -torch.sum(outputs) / num_examples"
   ]
  },
  {
   "cell_type": "markdown",
   "metadata": {},
   "source": [
    "This was a fairly simple example of writing our own loss function. In the section on NLP, we'll see an interesting use of custom loss functions."
   ]
  },
  {
   "cell_type": "markdown",
   "metadata": {},
   "source": [
    "## Optimizer\n",
    "The `torch.optim` package provides an easy to use interface for common optimization algorithms. Defining your optimizer is really as simple as:"
   ]
  },
  {
   "cell_type": "code",
   "execution_count": 7,
   "metadata": {},
   "outputs": [],
   "source": [
    "# pick a SGD optimizer\n",
    "optimizer = torch.optim.SGD(model.parameters(), lr=.01, momentum=.9)\n",
    "\n",
    "# or pick ADAM\n",
    "optimizer = torch.optim.Adam(model.parameters(), lr=.0001)"
   ]
  },
  {
   "cell_type": "markdown",
   "metadata": {},
   "source": [
    "You pass in the parameters of the model that need to be updated every iteration. You can also specify more complex methods such as per-layer or even per-parameter learning rates.\n",
    "\n",
    "Once gradients have been computed using `loss.backward()`, calling `optimizer.step()` updates the parameters as defined by the optimization algorithm."
   ]
  },
  {
   "cell_type": "markdown",
   "metadata": {},
   "source": [
    "## Training vs Evaluation\n",
    "Before training the model, it is imperative to call `model.train()`. Likewise, you must call `model.eval()` before testing the model. This corrects for the differences in dropout, batch normalization during training and testing."
   ]
  },
  {
   "cell_type": "markdown",
   "metadata": {},
   "source": [
    "## Computing Metrics\n",
    "By this stage you should be able to understand most of the code in `train.py` and `evaluate.py` (except how we fetch the data, which we’ll come to in the subsequent posts). Apart from keeping an eye on the loss, it is also helpful to monitor other metrics such as accuracy and precision/recall. To do this, you can define your own metric functions for a batch of model outputs in the `model/net.py` file. In order to make it easier, we convert the PyTorch Variables into NumPy arrays before passing them into the metric functions. For a multi-class classification problem as set up in the section on Loss Function, we can write a function to compute accuracy using NumPy as:"
   ]
  },
  {
   "cell_type": "code",
   "execution_count": 8,
   "metadata": {},
   "outputs": [],
   "source": [
    "def accuracy(out, labels):\n",
    "    outputs = np.argmax(out, axis=-1)\n",
    "    return np.sum(outputs==labels) / float(labels.size)"
   ]
  },
  {
   "cell_type": "markdown",
   "metadata": {},
   "source": [
    "You can add your own metrics in the `model/net.py` file. Once you are done, simply add them to the metrics dictionary:"
   ]
  },
  {
   "cell_type": "code",
   "execution_count": 11,
   "metadata": {},
   "outputs": [],
   "source": [
    "metrics = {'accuracy' : accuracy\n",
    "           # add your own custom metrics\n",
    "           }"
   ]
  },
  {
   "cell_type": "markdown",
   "metadata": {},
   "source": [
    "## Saving and Loading Models\n",
    "We define utility functions to save and load models in `utils.py`. To save your model, call:\n",
    "```python\n",
    "state = {'epoch': epoch + 1,\n",
    "         'state_dict': model.state_dict(),\n",
    "         'optim_dict' : optimizer.state_dict()}\n",
    "utils.save_checkpoint(state,\n",
    "                      is_best=is_best,      # True if this is the model with best metrics\n",
    "                      checkpoint=model_dir) # path to folder\n",
    "```\n",
    "`utils.py` internally uses the `torch.save(state, filepath)` method to save the state dictionary that is defined above. You can add more items to the dictionary, such as metrics. The `model.state_dict()` stores the parameters of the model and `optimizer.state_dict()` stores the state of the optimizer (such as per-parameter learning rate).\n",
    "\n",
    "To load the saved state from a checkpoint, you may use:\n",
    "```python\n",
    "utils.load_checkpoint(restore_path, model, optimizer)\n",
    "```\n",
    "The `optimizer` argument is optional and you may choose to restart with a new optimizer. `load_checkpoint` internally loads the saved checkpoint and restores the model weights and the state of the optimizer."
   ]
  },
  {
   "cell_type": "markdown",
   "metadata": {},
   "source": [
    "## Using the GPU\n",
    "Interspersed through the code you will find lines such as:\n",
    "```python\n",
    "model = net.Net(params).cuda() if params.cuda else net.Net(params)\n",
    "\n",
    "if params.cuda:\n",
    "    batch_data, batch_labels = batch_data.cuda(), batch_labels.cuda()\n",
    "```\n",
    "PyTorch makes the use of the GPU explicit and transparent using these commands. Calling `.cuda()` on a model/Tensor/Variable sends it to the GPU. In order to train a model on the GPU, all the relevant parameters and Variables must be sent to the GPU using `.cuda()`."
   ]
  },
  {
   "cell_type": "markdown",
   "metadata": {},
   "source": [
    "## Painless Debugging\n",
    "With its clean and minimal design, PyTorch makes debugging a breeze. You can place breakpoints using `pdb.set_trace()` at any line in your code. You can then execute further computations, examine the PyTorch Tensors/Variables and pinpoint the root cause of the error."
   ]
  },
  {
   "cell_type": "markdown",
   "metadata": {},
   "source": [
    "That concludes the introduction to the PyTorch code examples. You can proceed to the Vision example and/or the NLP example to understand how we load data and define models specific to each domain."
   ]
  }
 ],
 "metadata": {
  "kernelspec": {
   "display_name": "Python 3",
   "language": "python",
   "name": "python3"
  },
  "language_info": {
   "codemirror_mode": {
    "name": "ipython",
    "version": 3
   },
   "file_extension": ".py",
   "mimetype": "text/x-python",
   "name": "python",
   "nbconvert_exporter": "python",
   "pygments_lexer": "ipython3",
   "version": "3.6.8"
  }
 },
 "nbformat": 4,
 "nbformat_minor": 2
}
